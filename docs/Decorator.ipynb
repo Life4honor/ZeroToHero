{
 "cells": [
  {
   "cell_type": "code",
   "execution_count": 31,
   "metadata": {},
   "outputs": [
    {
     "name": "stdout",
     "output_type": "stream",
     "text": [
      "hello decorator\n",
      "I am func\n",
      "bye decorator\n",
      "hello decorator\n",
      "I am func with deco\n",
      "bye decorator\n"
     ]
    }
   ],
   "source": [
    "def decorator(func):\n",
    "    \n",
    "    def wrapper():        \n",
    "        print(\"hello decorator\")\n",
    "        func()\n",
    "        print(\"bye decorator\")\n",
    "    \n",
    "    return wrapper\n",
    "\n",
    "def function():\n",
    "    print(\"I am func\")\n",
    "\n",
    "decorator(function)()\n",
    "\n",
    "@decorator\n",
    "def func_with_deco():\n",
    "    print(\"I am func with deco\")\n",
    "    \n",
    "func_with_deco()"
   ]
  }
 ],
 "metadata": {
  "kernelspec": {
   "display_name": "Python 3",
   "language": "python",
   "name": "python3"
  },
  "language_info": {
   "codemirror_mode": {
    "name": "ipython",
    "version": 3
   },
   "file_extension": ".py",
   "mimetype": "text/x-python",
   "name": "python",
   "nbconvert_exporter": "python",
   "pygments_lexer": "ipython3",
   "version": "3.7.1"
  }
 },
 "nbformat": 4,
 "nbformat_minor": 2
}
